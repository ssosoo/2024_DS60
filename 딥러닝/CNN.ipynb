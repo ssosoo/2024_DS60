{
  "nbformat": 4,
  "nbformat_minor": 0,
  "metadata": {
    "colab": {
      "provenance": [],
      "authorship_tag": "ABX9TyN1v+y0VJxtDO8Rq8a/o7sl",
      "include_colab_link": true
    },
    "kernelspec": {
      "name": "python3",
      "display_name": "Python 3"
    },
    "language_info": {
      "name": "python"
    }
  },
  "cells": [
    {
      "cell_type": "markdown",
      "metadata": {
        "id": "view-in-github",
        "colab_type": "text"
      },
      "source": [
        "<a href=\"https://colab.research.google.com/github/ssosoo/2024_DS60/blob/main/%EB%94%A5%EB%9F%AC%EB%8B%9D/CNN.ipynb\" target=\"_parent\"><img src=\"https://colab.research.google.com/assets/colab-badge.svg\" alt=\"Open In Colab\"/></a>"
      ]
    },
    {
      "cell_type": "markdown",
      "source": [
        "텐서플로를 사용해 MNIST 숫자 데이터를 분류하는 CNN을 구현한다."
      ],
      "metadata": {
        "id": "Y7Dmtjax48-Z"
      }
    },
    {
      "cell_type": "code",
      "execution_count": 1,
      "metadata": {
        "id": "O4n--8kR4ws5"
      },
      "outputs": [],
      "source": [
        "import tensorflow as tf\n",
        "from tensorflow.keras.datasets import mnist\n",
        "from tensorflow.keras.models import Sequential\n",
        "from tensorflow.keras.layers import Dense, Dropout, Flatten\n",
        "from tensorflow.keras.layers import Conv2D, MaxPooling2D\n",
        "from tensorflow.keras import backend as K\n",
        "from tensorflow.keras.losses import categorical_crossentropy\n",
        "from tensorflow.keras.optimizers import Adam\n",
        "from tensorflow.keras.callbacks import EarlyStopping, ModelCheckpoint\n",
        "import numpy as np\n"
      ]
    },
    {
      "cell_type": "code",
      "source": [
        "(x_train, y_train), (x_test, y_test) = tf.keras.datasets.mnist.load_data()"
      ],
      "metadata": {
        "id": "eqoLo0CG46xU"
      },
      "execution_count": 8,
      "outputs": []
    },
    {
      "cell_type": "markdown",
      "source": [
        "MNIST 데이터는 28x28의 픽셀 테이터로, 흑백 사진과 같이 0~255까지의 그레이스케일을 가진다."
      ],
      "metadata": {
        "id": "uctvRKtW5RPq"
      }
    },
    {
      "cell_type": "code",
      "source": [
        "print(x_train[0][8])"
      ],
      "metadata": {
        "colab": {
          "base_uri": "https://localhost:8080/"
        },
        "id": "YXA9yVvP5OqX",
        "outputId": "b717d580-0ca5-4def-dc13-9cfb45cefe0d"
      },
      "execution_count": 9,
      "outputs": [
        {
          "output_type": "stream",
          "name": "stdout",
          "text": [
            "[  0   0   0   0   0   0   0  18 219 253 253 253 253 253 198 182 247 241\n",
            "   0   0   0   0   0   0   0   0   0   0]\n"
          ]
        }
      ]
    },
    {
      "cell_type": "code",
      "source": [
        "print(y_train[0:9])"
      ],
      "metadata": {
        "colab": {
          "base_uri": "https://localhost:8080/"
        },
        "id": "7TF8kZWp5hZ0",
        "outputId": "2f8ba07d-bca4-40bf-96a3-f3569ff1c12f"
      },
      "execution_count": 10,
      "outputs": [
        {
          "output_type": "stream",
          "name": "stdout",
          "text": [
            "[5 0 4 1 9 2 1 3 1]\n"
          ]
        }
      ]
    },
    {
      "cell_type": "code",
      "source": [
        "print(\"test data has \" + str(x_test.shape[0]) + ' samples')\n",
        "print(\"every test data is \" + str(x_test.shape[1])+\" * \"+str(x_test.shape[2])+\" image\")"
      ],
      "metadata": {
        "colab": {
          "base_uri": "https://localhost:8080/"
        },
        "id": "LnQ6fJlg5m2a",
        "outputId": "966bf62f-ae9e-4e3b-a2de-0f501c3ca5e6"
      },
      "execution_count": 12,
      "outputs": [
        {
          "output_type": "stream",
          "name": "stdout",
          "text": [
            "test data has 10000 samples\n",
            "every test data is 28 * 28 image\n"
          ]
        }
      ]
    },
    {
      "cell_type": "markdown",
      "source": [
        "\n",
        "*   첫 번째 차원 (10000): 테스트 이미지의 총 개수\n",
        "\n",
        "\n",
        "* 두 번째 차원 (28): 각 이미지의 높이 (픽셀)\n",
        "\n",
        "* 세 번째 차원 (28): 각 이미지의 너비 (픽셀)"
      ],
      "metadata": {
        "id": "QYdvXuSu8c_2"
      }
    },
    {
      "cell_type": "code",
      "source": [
        "x_train = np.reshape(x_train, (60000,28,28,1))\n",
        "x_test = np.reshape(x_test, (10000,28,28,1))\n",
        "\n",
        "print(x_train.shape)\n",
        "print(x_test.shape)"
      ],
      "metadata": {
        "colab": {
          "base_uri": "https://localhost:8080/"
        },
        "id": "F6n1hCnv8Le7",
        "outputId": "e2c9463c-c8fc-43b6-cc48-44652694c02e"
      },
      "execution_count": 15,
      "outputs": [
        {
          "output_type": "stream",
          "name": "stdout",
          "text": [
            "(60000, 28, 28, 1)\n",
            "(10000, 28, 28, 1)\n"
          ]
        }
      ]
    },
    {
      "cell_type": "code",
      "source": [
        "#데이터 정규화\n",
        "x_train = x_train.astype('float32')\n",
        "x_test = x_test.astype('float32')\n",
        "\n",
        "gray_scale = 255\n",
        "x_train /= gray_scale\n",
        "x_test /= gray_scale"
      ],
      "metadata": {
        "id": "RZZDWORA8muW"
      },
      "execution_count": 16,
      "outputs": []
    },
    {
      "cell_type": "code",
      "source": [
        "#손실 함수에서 크로스 엔트로피를 계산하기 위해 실제값은 원 핫 인코딩 값으로 변경합니다.\n",
        "num_classes = 10\n",
        "y_train = tf.keras.utils.to_categorical(y_train, num_classes)\n",
        "y_test = tf.keras.utils.to_categorical(y_test, num_classes)"
      ],
      "metadata": {
        "id": "MNWBbdz-Bw-H"
      },
      "execution_count": 19,
      "outputs": []
    },
    {
      "cell_type": "markdown",
      "source": [
        "원 핫 인코딩\n",
        "\n",
        "\n",
        "원본 레이블: [3, 5, 1]\n",
        "원 핫 인코딩 후:\n",
        "\n",
        "Copy[[0, 0, 0, 1, 0, 0, 0, 0, 0, 0],\n",
        " [0, 0, 0, 0, 0, 1, 0, 0, 0, 0],\n",
        " [0, 1, 0, 0, 0, 0, 0, 0, 0, 0]]\n",
        "\n",
        "\n",
        " 이렇게, 이진으로 변환하여 신경망의 효율을 높인다."
      ],
      "metadata": {
        "id": "-XFlMC9wCekr"
      }
    },
    {
      "cell_type": "code",
      "source": [
        "# CNN 구현\n",
        "\n",
        "model = Sequential()\n",
        "# conv1\n",
        "model.add(Conv2D(16, kernel_size=(5, 5),\n",
        "                 activation = 'relu',\n",
        "                 input_shape = (28,28,1), padding='same'))\n",
        "model.add(MaxPooling2D(pool_size=(2, 2)))\n",
        "# conv2\n",
        "model.add(Conv2D(32, kernel_size=(5,5), activation = 'relu', padding='same'))\n",
        "model.add(MaxPooling2D(pool_size=(2,2)))\n",
        "model.add(Flatten())\n",
        "# h1: 128노드, h2: 10노드\n",
        "model.add(Dense(128, activation='relu'))\n",
        "model.add(Dense(num_classes, activation='softmax'))\n",
        "\n",
        "# 모델 최적화\n",
        "model.compile(loss=categorical_crossentropy,\n",
        "              optimizer=Adam(),\n",
        "              metrics=['accuracy'])\n",
        "\n",
        "# 두 번 이상 모델의 개선이 없을 경우 중료\n",
        "callbacks = [EarlyStopping(monitor='val_accuracy', patience=2,\n",
        "                           restore_best_weights=False),\n",
        "             ModelCheckpoint(filepath='best_model.keras', monitor='val_accuracy',\n",
        "                             save_best_only=True)]"
      ],
      "metadata": {
        "id": "Y4ykCU9VEc0Q"
      },
      "execution_count": 21,
      "outputs": []
    },
    {
      "cell_type": "code",
      "source": [
        "model.fit(x_train, y_train,\n",
        "          batch_size=500,\n",
        "          epochs=5,\n",
        "          verbose=1,\n",
        "          validation_split=0.1, #학습 데이터의 10%를 검증 데이터로 사용\n",
        "          callbacks = callbacks)"
      ],
      "metadata": {
        "colab": {
          "base_uri": "https://localhost:8080/"
        },
        "id": "kCpaPGBtHO1o",
        "outputId": "ed27cef7-4855-4712-d6ee-c1aa685b7296"
      },
      "execution_count": 23,
      "outputs": [
        {
          "output_type": "stream",
          "name": "stdout",
          "text": [
            "Epoch 1/5\n",
            "\u001b[1m108/108\u001b[0m \u001b[32m━━━━━━━━━━━━━━━━━━━━\u001b[0m\u001b[37m\u001b[0m \u001b[1m69s\u001b[0m 617ms/step - accuracy: 0.7236 - loss: 0.9468 - val_accuracy: 0.9700 - val_loss: 0.1059\n",
            "Epoch 2/5\n",
            "\u001b[1m108/108\u001b[0m \u001b[32m━━━━━━━━━━━━━━━━━━━━\u001b[0m\u001b[37m\u001b[0m \u001b[1m61s\u001b[0m 567ms/step - accuracy: 0.9678 - loss: 0.1098 - val_accuracy: 0.9810 - val_loss: 0.0691\n",
            "Epoch 3/5\n",
            "\u001b[1m108/108\u001b[0m \u001b[32m━━━━━━━━━━━━━━━━━━━━\u001b[0m\u001b[37m\u001b[0m \u001b[1m82s\u001b[0m 566ms/step - accuracy: 0.9783 - loss: 0.0714 - val_accuracy: 0.9852 - val_loss: 0.0563\n",
            "Epoch 4/5\n",
            "\u001b[1m108/108\u001b[0m \u001b[32m━━━━━━━━━━━━━━━━━━━━\u001b[0m\u001b[37m\u001b[0m \u001b[1m59s\u001b[0m 546ms/step - accuracy: 0.9826 - loss: 0.0555 - val_accuracy: 0.9862 - val_loss: 0.0539\n",
            "Epoch 5/5\n",
            "\u001b[1m108/108\u001b[0m \u001b[32m━━━━━━━━━━━━━━━━━━━━\u001b[0m\u001b[37m\u001b[0m \u001b[1m82s\u001b[0m 544ms/step - accuracy: 0.9867 - loss: 0.0449 - val_accuracy: 0.9877 - val_loss: 0.0459\n"
          ]
        },
        {
          "output_type": "execute_result",
          "data": {
            "text/plain": [
              "<keras.src.callbacks.history.History at 0x7b6a953aa140>"
            ]
          },
          "metadata": {},
          "execution_count": 23
        }
      ]
    },
    {
      "cell_type": "code",
      "source": [
        "# 테스트 결과 확인\n",
        "score = model.evaluate(x_test, y_test, verbose=0)\n",
        "print('Test loss: ', score[0])\n",
        "print('Test accuracy: ', score[1])"
      ],
      "metadata": {
        "colab": {
          "base_uri": "https://localhost:8080/"
        },
        "id": "-qOKBFy-H3E3",
        "outputId": "511320ac-a811-4884-b48e-c0d62e40b8b0"
      },
      "execution_count": 25,
      "outputs": [
        {
          "output_type": "stream",
          "name": "stdout",
          "text": [
            "Test loss:  0.03923730552196503\n",
            "Test accuracy:  0.9864000082015991\n"
          ]
        }
      ]
    }
  ]
}