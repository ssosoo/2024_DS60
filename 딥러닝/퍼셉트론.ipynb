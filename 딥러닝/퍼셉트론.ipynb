{
  "nbformat": 4,
  "nbformat_minor": 0,
  "metadata": {
    "colab": {
      "provenance": [],
      "authorship_tag": "ABX9TyOCw3zyzIXArFKpUH1UZ1dM",
      "include_colab_link": true
    },
    "kernelspec": {
      "name": "python3",
      "display_name": "Python 3"
    },
    "language_info": {
      "name": "python"
    }
  },
  "cells": [
    {
      "cell_type": "markdown",
      "metadata": {
        "id": "view-in-github",
        "colab_type": "text"
      },
      "source": [
        "<a href=\"https://colab.research.google.com/github/ssosoo/2024_DS60/blob/main/%EB%94%A5%EB%9F%AC%EB%8B%9D/%ED%8D%BC%EC%85%89%ED%8A%B8%EB%A1%A0.ipynb\" target=\"_parent\"><img src=\"https://colab.research.google.com/assets/colab-badge.svg\" alt=\"Open In Colab\"/></a>"
      ]
    },
    {
      "cell_type": "markdown",
      "source": [
        "**퍼셉트론**\n",
        "\n",
        "스텝함수만을 활성화 함수로 사용한다.\n",
        "\n",
        "코드의 이해도를 높이기 위해 1은 TRUE, 0은 FALSE, 편향값은 1로 지정한다."
      ],
      "metadata": {
        "id": "dhIo8dKWr_FT"
      }
    },
    {
      "cell_type": "code",
      "execution_count": 1,
      "metadata": {
        "id": "rvitFUc9rss9"
      },
      "outputs": [],
      "source": [
        "import tensorflow as tf"
      ]
    },
    {
      "cell_type": "code",
      "source": [
        "T = 1.0\n",
        "F = 0.0\n",
        "bias = 1.0"
      ],
      "metadata": {
        "id": "FvfgZUdwsJdv"
      },
      "execution_count": 2,
      "outputs": []
    },
    {
      "cell_type": "code",
      "source": [
        "#And, Or, XOR 계산 함수 정의\n",
        "def get_AND_data():\n",
        "  X = [\n",
        "       [F, F, bias],\n",
        "       [F, T, bias],\n",
        "       [T, F, bias],\n",
        "       [T, T, bias]\n",
        "  ]\n",
        "  Y = [[F], [F], [F], [T]]\n",
        "  return X, Y\n",
        "\n",
        "def get_OR_data():\n",
        "  X = [\n",
        "       [F, F, bias],\n",
        "       [F, T, bias],\n",
        "       [T, F, bias],\n",
        "       [T, T, bias]\n",
        "  ]\n",
        "  Y = [[F], [T], [T], [T]]\n",
        "  return X, Y\n",
        "\n",
        "def get_XOR_data():\n",
        "  X = [\n",
        "       [F, F, bias],\n",
        "       [F, T, bias],\n",
        "       [T, F, bias],\n",
        "       [T, T, bias]\n",
        "  ]\n",
        "  Y = [[F], [T], [T], [F]]\n",
        "  return X, Y\n",
        "\n"
      ],
      "metadata": {
        "id": "8Rsgyx5nsYSw"
      },
      "execution_count": 3,
      "outputs": []
    },
    {
      "cell_type": "code",
      "source": [
        "X,Y = get_AND_data()"
      ],
      "metadata": {
        "id": "Wcfx8_n9tPsw"
      },
      "execution_count": 21,
      "outputs": []
    },
    {
      "cell_type": "markdown",
      "source": [
        "텐서플로를 사용한 퍼셉트론을 구현한다.\n",
        "\n",
        "Y는 전역변수로, class 내부에서도 사용이 가능하다.\n",
        "\n",
        "클래스 내에서 선언된 각 함수의 변수들은 self 를 사용하여 상호작용한다."
      ],
      "metadata": {
        "id": "exYYyWtttVy3"
      }
    },
    {
      "cell_type": "code",
      "source": [
        "class Perceptron:\n",
        "  #self는 클래스 내부 매서드 호출이다.\n",
        "  #참조 기능으로, self 없다면 함수간의 변수 상호작용x\n",
        "  def __init__(self):\n",
        "    #논리 연산을 위한 X,Y와 편향값 b를 받을 것이므로 weight를 [3,1]로 설정합니다.\n",
        "    #3은 세 개의 입력을 의미합니다.\n",
        "    #1은 한 개의 뉴런임을 의미합니다.\n",
        "    #대칭성 방지를 의해 weight는 무작위로 초기화합니다.\n",
        "    self.W = tf.Variable(tf.random.normal([3,1]))\n",
        "\n",
        "\n",
        "  def train(self, X):\n",
        "    err = 1\n",
        "    epoch, max_epochs = 0, 20\n",
        "    while err > 0.0 and epoch < max_epochs:\n",
        "      epoch +=1\n",
        "      self.optimize(X)\n",
        "\n",
        "      #MSE를 관찰하며, 학습이 진행되는 동안 에러가 줄어듬을 확인합니다.\n",
        "      #MSE는 평균제곱오차를 의미합니다.\n",
        "      err = self.mse(Y, self.pred(X)).numpy()\n",
        "      print('epoch:', epoch, 'mse:', err)\n",
        "\n",
        "  def pred(self, X):\n",
        "    #입력 X와 weight의 계산.\n",
        "    #스텝 함수에 적용 (활성화 함수를 적용)\n",
        "    return self.step(tf.matmul(X, self.W))\n",
        "\n",
        "  def mse(self, y, y_hat):\n",
        "    return tf.reduce_mean(tf.square(tf.subtract(y, y_hat)))\n",
        "\n",
        "  def step(self, X):\n",
        "    #step(x) = { 1 if x>0; 0 otherwise}\n",
        "    return tf.dtypes.cast(tf.math.greater(X, 0), tf.float32)\n",
        "\n",
        "  def optimize(self, X):\n",
        "    #퍼셉트론은 경사하강법을 사용한 최적화가 불가능.\n",
        "    #따라서 매번 학습을 진행할때마다 가중치를 새롭게 업데이트합니다.\n",
        "\n",
        "    delta = tf.matmul(X, tf.subtract(Y, self.step(tf.matmul(X, self.W))), transpose_a = True)\n",
        "    self.W.assign(self.W+delta)\n",
        "\n",
        "\n"
      ],
      "metadata": {
        "id": "na23utWetSu5"
      },
      "execution_count": 22,
      "outputs": []
    },
    {
      "cell_type": "markdown",
      "source": [
        "1. tf.matmul(X, self.W): 입력 X와 현재 가중치 W의 행렬 곱\n",
        "\n",
        "뉴런의 입력 계산\n",
        "\n",
        "\n",
        "2. self.step(...): 계단 함수로 활성화 값 계산\n",
        "\n",
        "입력을 이산화(0 또는 1)\n",
        "\n",
        "\n",
        "3. tf.subtract(y, self.step(...)): 실제 레이블 y와 예측값의 차이 계산\n",
        "\n",
        "오차(error) 계산\n",
        "\n",
        "\n",
        "4. tf.matmul(..., transpose_a = True):\n",
        "\n",
        "입력 행렬 X를 전치(transpose)\n",
        "입력과 오차를 곱하여 가중치 업데이트 방향을 결정한다.\n",
        "\n",
        "\n",
        "***학습***\n",
        "\n"
      ],
      "metadata": {
        "id": "PZLxVuQJ5lp5"
      }
    },
    {
      "cell_type": "code",
      "source": [
        "perceptron = Perceptron()\n",
        "perceptron.train(X)"
      ],
      "metadata": {
        "colab": {
          "base_uri": "https://localhost:8080/"
        },
        "id": "u7s7dutVxs9H",
        "outputId": "b18affb7-f405-4194-da8e-29bc03961252"
      },
      "execution_count": 31,
      "outputs": [
        {
          "output_type": "stream",
          "name": "stdout",
          "text": [
            "epoch: 1 mse: 0.25\n",
            "epoch: 2 mse: 0.75\n",
            "epoch: 3 mse: 0.25\n",
            "epoch: 4 mse: 0.0\n"
          ]
        }
      ]
    },
    {
      "cell_type": "code",
      "source": [
        "print(perceptron.pred(X).numpy())"
      ],
      "metadata": {
        "colab": {
          "base_uri": "https://localhost:8080/"
        },
        "id": "V-Kugn3T_9iN",
        "outputId": "3f1c5621-1cbe-4cab-b5e1-af7715e1ac5e"
      },
      "execution_count": 32,
      "outputs": [
        {
          "output_type": "stream",
          "name": "stdout",
          "text": [
            "[[0.]\n",
            " [0.]\n",
            " [0.]\n",
            " [1.]]\n"
          ]
        }
      ]
    }
  ]
}