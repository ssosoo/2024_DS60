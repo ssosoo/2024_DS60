{
  "nbformat": 4,
  "nbformat_minor": 0,
  "metadata": {
    "colab": {
      "provenance": [],
      "authorship_tag": "ABX9TyM/iFFi2xIM9cDHzdKvGgbQ",
      "include_colab_link": true
    },
    "kernelspec": {
      "name": "python3",
      "display_name": "Python 3"
    },
    "language_info": {
      "name": "python"
    }
  },
  "cells": [
    {
      "cell_type": "markdown",
      "metadata": {
        "id": "view-in-github",
        "colab_type": "text"
      },
      "source": [
        "<a href=\"https://colab.research.google.com/github/ssosoo/2024_DS60/blob/main/%EB%94%A5%EB%9F%AC%EB%8B%9D/%EB%89%B4%EB%9F%B0(%EB%85%B8%EB%93%9C).ipynb\" target=\"_parent\"><img src=\"https://colab.research.google.com/assets/colab-badge.svg\" alt=\"Open In Colab\"/></a>"
      ]
    },
    {
      "cell_type": "markdown",
      "source": [
        "딥러닝의 기본 구성 요소인 노드를 직접 구현해, AND OR연산을 실습한다."
      ],
      "metadata": {
        "id": "wkuwsu_7FQF_"
      }
    },
    {
      "cell_type": "code",
      "source": [
        "import tensorflow as tf"
      ],
      "metadata": {
        "id": "IeFS5NEdPMp4"
      },
      "execution_count": 2,
      "outputs": []
    },
    {
      "cell_type": "code",
      "execution_count": 4,
      "metadata": {
        "id": "oT6N1Dt1FGX6"
      },
      "outputs": [],
      "source": [
        "class Node:\n",
        "  def __init__(self):\n",
        "    #[a,b] 는 입력 a개 뉴련 b개를 의미한다.\n",
        "    self.w = tf.Variable(tf.random.normal([2,1]))\n",
        "    self.b = tf.Variable(tf.random.normal([1,1]))\n",
        "\n",
        "  def __call__(self, x):\n",
        "    return self.preds(x)\n",
        "\n",
        "  def preds(self, x):\n",
        "    #순전파(foward propagation)\n",
        "    out = tf.matmul(x, self.w)\n",
        "    out = tf.add(out, self.b)\n",
        "    out = tf.nn.sigmoid(out)\n",
        "    return out\n",
        "\n",
        "  def loss(self, y_pred, y):\n",
        "    return tf.reduce_mean(tf.square(y_pred-y))\n",
        "\n",
        "  def train(self, inputs, outputs, learning_rate):\n",
        "    epoches = range(10000)\n",
        "    for epoch in epoches:\n",
        "      with tf.GradientTape() as t:\n",
        "        #현재 손실값 계산\n",
        "        current_loss = self.loss(self.preds(inputs), outputs)\n",
        "\n",
        "        #손실함수에 대한 가중치와 편향에 대한 기울기 계산\n",
        "        #역전파(back propagation) 수행\n",
        "        dW, db = t.gradient(current_loss, [self.w, self.b])\n",
        "\n",
        "        #학습률을 곱한 기울기만큼 가중치, 편향 감소\n",
        "        self.w.assign_sub(learning_rate * dW)\n",
        "        self.b.assign_sub(learning_rate * db)"
      ]
    },
    {
      "cell_type": "markdown",
      "source": [
        "**AND 연산***"
      ],
      "metadata": {
        "id": "7aO8XeOgOkPD"
      }
    },
    {
      "cell_type": "code",
      "source": [
        "#AND operation\n",
        "inputs = tf.constant([[0.0, 0.0], [0.0, 1.0], [1.0, 0.0], [1.0, 1.0]])\n",
        "outputs = tf.constant([[0.0], [0.0], [0.0] , [1.0]])\n",
        "\n",
        "node = Node()\n",
        "\n",
        "#train\n",
        "node.train(inputs, outputs, 0.01)\n",
        "#test\n",
        "assert node([[0.0, 0.0]]).numpy()[0][0] < 0.5\n",
        "assert node([[0.0, 1.0]]).numpy()[0][0] < 0.5\n",
        "assert node([[1.0, 0.0]]).numpy()[0][0] < 0.5\n",
        "assert node([[1.0, 1.0]]).numpy()[0][0] >= 0.5\n"
      ],
      "metadata": {
        "id": "ncFfSxPaF9vh"
      },
      "execution_count": 7,
      "outputs": []
    },
    {
      "cell_type": "markdown",
      "source": [
        "**OR 연산**"
      ],
      "metadata": {
        "id": "Ncaiqu8FRsaX"
      }
    },
    {
      "cell_type": "code",
      "source": [
        "#OR operation\n",
        "inputs = tf.constant([[0.0, 0.0], [0.0, 1.0], [1.0, 0.0], [1.0, 1.0]])\n",
        "outputs = tf.constant([[0.0], [1.0], [1.0], [1.0]])\n",
        "\n",
        "#train\n",
        "node.train(inputs, outputs, 0.01)\n",
        "#test\n",
        "assert node([[0.0, 0.0]]).numpy()[0][0] < 0.5\n",
        "assert node([[0.0, 1.0]]).numpy()[0][0] >= 0.5\n",
        "assert node([[1.0, 0.0]]).numpy()[0][0] >= 0.5\n",
        "assert node([[1.0, 1.0]]).numpy()[0][0] >= 0.5\n"
      ],
      "metadata": {
        "id": "_YcT_rIDQiQv"
      },
      "execution_count": 8,
      "outputs": []
    }
  ]
}