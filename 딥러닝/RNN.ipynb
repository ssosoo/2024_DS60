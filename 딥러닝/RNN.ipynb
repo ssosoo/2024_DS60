{
  "nbformat": 4,
  "nbformat_minor": 0,
  "metadata": {
    "colab": {
      "provenance": [],
      "authorship_tag": "ABX9TyNY4eFS98ztmKnmR5oQGoSt",
      "include_colab_link": true
    },
    "kernelspec": {
      "name": "python3",
      "display_name": "Python 3"
    },
    "language_info": {
      "name": "python"
    }
  },
  "cells": [
    {
      "cell_type": "markdown",
      "metadata": {
        "id": "view-in-github",
        "colab_type": "text"
      },
      "source": [
        "<a href=\"https://colab.research.google.com/github/ssosoo/2024_DS60/blob/main/%EB%94%A5%EB%9F%AC%EB%8B%9D/RNN.ipynb\" target=\"_parent\"><img src=\"https://colab.research.google.com/assets/colab-badge.svg\" alt=\"Open In Colab\"/></a>"
      ]
    },
    {
      "cell_type": "code",
      "execution_count": null,
      "metadata": {
        "id": "NAklz29ELyhv"
      },
      "outputs": [],
      "source": [
        "import numpy as np"
      ]
    },
    {
      "cell_type": "code",
      "source": [
        "import tensorflow as tf\n",
        "from tensorflow.keras.layers import Input, Dense, SimpleRNN\n",
        "from tensorflow.keras.models import Model\n",
        "import numpy as np"
      ],
      "metadata": {
        "id": "8JSHilMTL1IU"
      },
      "execution_count": null,
      "outputs": []
    },
    {
      "cell_type": "code",
      "source": [
        "# 입력값의 형태를 지정합니다. 1*2 행렬\n",
        "# 2차원 데이터를 받아 3차원의 데이터를 출력하는 RNN 셀을 생성합니다.\n",
        "inputs = Input(shape=(1,2))\n",
        "\n",
        "# return_state=True: RNN 셀의 상태값(state)을 출력하도록 지정합니다.\n",
        "output, state = SimpleRNN(3, return_state=True)(inputs)\n",
        "model = Model(inputs = inputs, outputs = [output, state])"
      ],
      "metadata": {
        "id": "YMhVz3zFSDmG"
      },
      "execution_count": null,
      "outputs": []
    },
    {
      "cell_type": "code",
      "source": [
        "# 테스트 입력값\n",
        "data = np.array([[ [1,2]]])\n",
        "\n",
        "# 출력값, 상태값 프린트\n",
        "output, state = model.predict(data)\n",
        "print(\"output: \", output)\n",
        "print(\"state: \", state)"
      ],
      "metadata": {
        "colab": {
          "base_uri": "https://localhost:8080/"
        },
        "id": "lwD-sU9XZIEj",
        "outputId": "46a37dc4-80f5-4c49-e8bc-58ce15f9ea24"
      },
      "execution_count": null,
      "outputs": [
        {
          "output_type": "stream",
          "name": "stdout",
          "text": [
            "\u001b[1m1/1\u001b[0m \u001b[32m━━━━━━━━━━━━━━━━━━━━\u001b[0m\u001b[37m\u001b[0m \u001b[1m0s\u001b[0m 22ms/step\n",
            "output:  [[ 0.2095119  -0.36807537  0.9655902 ]]\n",
            "state:  [[ 0.2095119  -0.36807537  0.9655902 ]]\n"
          ]
        }
      ]
    },
    {
      "cell_type": "code",
      "source": [
        "# 입력값 [1,2]에 대한 가중치 행렬의 값을 확인합니다.\n",
        "# 가중치 행렬은 2*3입니다.\n",
        "model.layers[1].weights[0]"
      ],
      "metadata": {
        "colab": {
          "base_uri": "https://localhost:8080/"
        },
        "id": "PbPCv5IlZZjB",
        "outputId": "607a667e-34db-4c3e-81fb-a247b5416a9d"
      },
      "execution_count": null,
      "outputs": [
        {
          "output_type": "execute_result",
          "data": {
            "text/plain": [
              "<KerasVariable shape=(2, 3), dtype=float32, path=simple_rnn/simple_rnn_cell/kernel>"
            ]
          },
          "metadata": {},
          "execution_count": 7
        }
      ]
    },
    {
      "cell_type": "code",
      "source": [
        "# 이전 상태값에 대한 가중치 행렬을 확인합니다.\n",
        "# 이전 상태값이 1*3 행렬이므로, 가중치 행렬은 3*3입니다.\n",
        "model.layers[1].weights[1]"
      ],
      "metadata": {
        "colab": {
          "base_uri": "https://localhost:8080/"
        },
        "id": "13btEL5NbH0S",
        "outputId": "4ce68569-f9bf-4fbe-c53b-5ac1b61e2c6d"
      },
      "execution_count": null,
      "outputs": [
        {
          "output_type": "execute_result",
          "data": {
            "text/plain": [
              "<KerasVariable shape=(3, 3), dtype=float32, path=simple_rnn/simple_rnn_cell/recurrent_kernel>"
            ]
          },
          "metadata": {},
          "execution_count": 11
        }
      ]
    },
    {
      "cell_type": "code",
      "source": [
        "# 편향값 행렬을 확인합니다.\n",
        "# 상태값이 3차원 벡터이므로 3개의 편향값이 존재합니다.\n",
        "model.layers[1].weights[2]"
      ],
      "metadata": {
        "colab": {
          "base_uri": "https://localhost:8080/"
        },
        "id": "oaWl18bBbR-L",
        "outputId": "fe77c622-f7d4-459d-c57a-bde7477dad8c"
      },
      "execution_count": null,
      "outputs": [
        {
          "output_type": "execute_result",
          "data": {
            "text/plain": [
              "<KerasVariable shape=(3,), dtype=float32, path=simple_rnn/simple_rnn_cell/bias>"
            ]
          },
          "metadata": {},
          "execution_count": 9
        }
      ]
    },
    {
      "cell_type": "markdown",
      "source": [
        "**텐서플로를 이용한 단어 품사 구분**\n",
        "\n",
        "\n",
        "'I work at google'과 'I google at work'의 단어 품사를 구분하는 RNN 코드를 텐서플로로 구현합니다. 각 단어는 원 핫 인코딩으로 표현합니다."
      ],
      "metadata": {
        "id": "8ggnsw_rb4e9"
      }
    },
    {
      "cell_type": "code",
      "source": [
        "# I     [1,0,0,0]\n",
        "# work  [0,1,0,0]\n",
        "# at    [0,0,1,0]\n",
        "# google[0,0,0,1]\n",
        "\n",
        "data = np.array([\n",
        "    [ [1,0,0,0], [0,1,0,0], [0,0,1,0], [0,0,0,1] ],\n",
        "    [ [1,0,0,0], [0,0,0,1], [0,0,1,0], [0,1,0,0] ]\n",
        "])"
      ],
      "metadata": {
        "id": "tsderhd0bzOf"
      },
      "execution_count": null,
      "outputs": []
    },
    {
      "cell_type": "code",
      "source": [
        "# 입력값의 형태를 지정합니다.\n",
        "inputs = Input(shape=(4,4))\n",
        "\n",
        "\n",
        "output, state = SimpleRNN(3, return_state=True, return_sequences=True)(inputs)\n",
        "model = Model(inputs = inputs, outputs = [output, state])"
      ],
      "metadata": {
        "id": "HA9GRIYWctAu"
      },
      "execution_count": null,
      "outputs": []
    },
    {
      "cell_type": "code",
      "source": [
        "output, state = model.predict(data)\n",
        "print(\"I work at google: \", output[0])\n",
        "print(\"I google at work: \", output[1])"
      ],
      "metadata": {
        "colab": {
          "base_uri": "https://localhost:8080/"
        },
        "id": "IkrfhkLJdIxi",
        "outputId": "3c938d29-8c89-4952-9059-6987b12fe3dc"
      },
      "execution_count": null,
      "outputs": [
        {
          "output_type": "stream",
          "name": "stdout",
          "text": [
            "\u001b[1m1/1\u001b[0m \u001b[32m━━━━━━━━━━━━━━━━━━━━\u001b[0m\u001b[37m\u001b[0m \u001b[1m0s\u001b[0m 35ms/step\n",
            "I work at google:  [[-0.67596406  0.5108593  -0.24663247]\n",
            " [-0.20215829 -0.08968467  0.8578504 ]\n",
            " [ 0.13518193 -0.83389336 -0.9169144 ]\n",
            " [ 0.8999227   0.8616388   0.5847391 ]]\n",
            "I google at work:  [[-0.67596406  0.5108593  -0.24663247]\n",
            " [ 0.13470271  0.2348281   0.53367317]\n",
            " [-0.12990221 -0.6848035  -0.8399826 ]\n",
            " [ 0.76567143  0.59270245  0.88049287]]\n"
          ]
        }
      ]
    },
    {
      "cell_type": "markdown",
      "source": [
        "첫 단어 이후부터 출력값이 다르다. 이는 이전 상태값이 현재 출력값에 영향을 주기 때문이다.\n",
        "두번째 출력값은 입력값의 차이로 결과 차이가 발생한다.\n",
        "\n",
        "하단의 코드를 실행해 RNN의 최종 상태값은 마지막 단어의 출력값과 동일함을 확인할 수 있다."
      ],
      "metadata": {
        "id": "L2OR7b92eNJH"
      }
    },
    {
      "cell_type": "code",
      "source": [
        "print(\"I work at google: \", state[0])\n",
        "print(\"I google at work: \", state[1])"
      ],
      "metadata": {
        "colab": {
          "base_uri": "https://localhost:8080/"
        },
        "id": "aMzPMeeFdecg",
        "outputId": "d68ebdcc-abb2-4f68-e937-08e2edbaee10"
      },
      "execution_count": null,
      "outputs": [
        {
          "output_type": "stream",
          "name": "stdout",
          "text": [
            "I work at google:  [0.8999227 0.8616388 0.5847391]\n",
            "I google at work:  [0.76567143 0.59270245 0.88049287]\n"
          ]
        }
      ]
    }
  ]
}