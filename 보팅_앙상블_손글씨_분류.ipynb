{
  "nbformat": 4,
  "nbformat_minor": 0,
  "metadata": {
    "colab": {
      "provenance": [],
      "authorship_tag": "ABX9TyOV0datkKsM05evDEwyyssE",
      "include_colab_link": true
    },
    "kernelspec": {
      "name": "python3",
      "display_name": "Python 3"
    },
    "language_info": {
      "name": "python"
    }
  },
  "cells": [
    {
      "cell_type": "markdown",
      "metadata": {
        "id": "view-in-github",
        "colab_type": "text"
      },
      "source": [
        "<a href=\"https://colab.research.google.com/github/ssosoo/2024_DS60/blob/main/%EB%B3%B4%ED%8C%85_%EC%95%99%EC%83%81%EB%B8%94_%EC%86%90%EA%B8%80%EC%94%A8_%EB%B6%84%EB%A5%98.ipynb\" target=\"_parent\"><img src=\"https://colab.research.google.com/assets/colab-badge.svg\" alt=\"Open In Colab\"/></a>"
      ]
    },
    {
      "cell_type": "code",
      "execution_count": 3,
      "metadata": {
        "id": "GZNH_fn37YG4"
      },
      "outputs": [],
      "source": [
        "from sklearn import datasets\n",
        "from sklearn import tree\n",
        "from sklearn.neighbors import KNeighborsClassifier\n",
        "from sklearn.svm import SVC\n",
        "from sklearn.ensemble import VotingClassifier\n",
        "from sklearn.model_selection import train_test_split\n",
        "from sklearn.metrics import accuracy_score"
      ]
    },
    {
      "cell_type": "code",
      "source": [
        "mnist = datasets.load_digits()\n",
        "features, labels = mnist.data, mnist.target\n",
        "X_train, X_test, y_train, y_test = train_test_split(features, labels, test_size=0.2)"
      ],
      "metadata": {
        "id": "YruB_sX-8tUS"
      },
      "execution_count": 5,
      "outputs": []
    },
    {
      "cell_type": "markdown",
      "source": [
        "**단일 모델의 정확도 측정**"
      ],
      "metadata": {
        "id": "LSb7zHrz9RBe"
      }
    },
    {
      "cell_type": "markdown",
      "source": [
        "변수에 모델 호출\n",
        "\n",
        "x와 y train fit하기.\n",
        "\n",
        "X_test를 대입한 예측값 저장"
      ],
      "metadata": {
        "id": "KxwXkCg39QIm"
      }
    },
    {
      "cell_type": "code",
      "source": [
        "dtree = tree.DecisionTreeClassifier(criterion = \"gini\", max_depth = 8,\n",
        "                                      max_features = 32, random_state = 35)\n",
        "dtree = dtree.fit(X_train, y_train)\n",
        "dtree_predicted = dtree.predict(X_test)\n",
        "\n",
        "knn = KNeighborsClassifier(n_neighbors = 299).fit(X_train, y_train)\n",
        "knn_predicted = knn.predict(X_test)\n",
        "\n",
        "svm = SVC(C=0.1, gamma = 0.003, probability = True, random_state = 35).fit(X_train, y_train)\n",
        "svm_predicted = svm.predict(X_test)\n",
        "print(\"[accuracy]\")\n",
        "print(\"d-tree: \" , accuracy_score(y_test, dtree_predicted))\n",
        "print(\"knn: \", accuracy_score(y_test, knn_predicted))\n",
        "print(\"svm: \", accuracy_score(y_test, svm_predicted))"
      ],
      "metadata": {
        "colab": {
          "base_uri": "https://localhost:8080/"
        },
        "id": "nljgcNgE87mV",
        "outputId": "47c625df-9e54-447e-feee-5b4ea7b89d60"
      },
      "execution_count": 7,
      "outputs": [
        {
          "output_type": "stream",
          "name": "stdout",
          "text": [
            "[accuracy]\n",
            "d-tree:  0.8527777777777777\n",
            "knn:  0.8222222222222222\n",
            "svm:  0.8416666666666667\n"
          ]
        }
      ]
    },
    {
      "cell_type": "markdown",
      "source": [
        "**분류값 별 확률 확인**\n",
        "\n",
        "사이킷런의 voting classfier를 사용해 소프트or하드 보팅을 구현한다.\n",
        "\n",
        "\n",
        "\n",
        "하단 predict_proba 함수는 svm으로부터 나온 테스트 데이터 2개의 0부터 9까지의 확률을 볼 수 있다.\n",
        "\n",
        "각 데이터가 n차원 배열로 나열되었을 때 하나의 배열에서 특정 원소일 확률값을 나타내는 것."
      ],
      "metadata": {
        "id": "e3e8ZMcK_tWo"
      }
    },
    {
      "cell_type": "code",
      "source": [
        "svm_proba = svm.predict_proba(X_test)\n",
        "#모든 테스트 결과중 두개만 출력\n",
        "print(svm_proba[0:2])"
      ],
      "metadata": {
        "colab": {
          "base_uri": "https://localhost:8080/"
        },
        "id": "djez3AiM_k-7",
        "outputId": "d95153a4-ff8d-45a5-a776-77a2e0fea190"
      },
      "execution_count": 8,
      "outputs": [
        {
          "output_type": "stream",
          "name": "stdout",
          "text": [
            "[[1.18158595e-02 3.26866669e-01 6.92926449e-02 2.61616536e-02\n",
            "  5.04623087e-02 1.16009168e-01 2.55473693e-02 4.98003052e-02\n",
            "  2.44898622e-01 7.91453998e-02]\n",
            " [6.13802590e-04 1.04055650e-03 6.48442092e-04 4.74673944e-04\n",
            "  7.29572906e-04 9.03134166e-04 9.92330757e-01 7.14840053e-04\n",
            "  1.49038635e-03 1.05383398e-03]]\n"
          ]
        }
      ]
    },
    {
      "cell_type": "markdown",
      "source": [
        "**하드 보팅**\n",
        "\n",
        "예측값들을 모아 가장 많은 투표를 받은 예측값으로 선정"
      ],
      "metadata": {
        "id": "2TBrpiPZD_wh"
      }
    },
    {
      "cell_type": "code",
      "source": [
        "voting_clf = VotingClassifier(estimators=[\n",
        "    ('decision_tree', dtree), ('knn', knn), ('svm', svm)],\n",
        "    weights = [1,1,1], voting='hard').fit(X_train, y_train)\n",
        "\n",
        "hard_voting_predicted = voting_clf.predict(X_test)\n",
        "accuracy_score(y_test, hard_voting_predicted)"
      ],
      "metadata": {
        "colab": {
          "base_uri": "https://localhost:8080/"
        },
        "id": "S7135CEWATsa",
        "outputId": "a9806c9b-35a8-4212-de23-1f71ce527098"
      },
      "execution_count": 10,
      "outputs": [
        {
          "output_type": "execute_result",
          "data": {
            "text/plain": [
              "0.8916666666666667"
            ]
          },
          "metadata": {},
          "execution_count": 10
        }
      ]
    },
    {
      "cell_type": "markdown",
      "source": [
        "**소프트 보팅**\n",
        "\n",
        "각 분류모델의 predict_proba를 활용해 모든 분류값들의 확률을 더해, 가장 높은 점수를 취득한 분류값으로 선정"
      ],
      "metadata": {
        "id": "sccumlHwE_NS"
      }
    },
    {
      "cell_type": "code",
      "source": [
        "voting_clf = VotingClassifier(estimators=[\n",
        "    ('decision_tree', dtree), ('knn', knn), ('svm', svm)],\n",
        "    weights=[1,1,1], voting = 'soft').fit(X_train, y_train)\n",
        "\n",
        "soft_voting_predicted = voting_clf.predict(X_test)\n",
        "accuracy_score(y_test, soft_voting_predicted)"
      ],
      "metadata": {
        "colab": {
          "base_uri": "https://localhost:8080/"
        },
        "id": "xSWF7Q7HE5Ag",
        "outputId": "c2798c62-f410-4e82-9f26-6ccc1211a628"
      },
      "execution_count": 14,
      "outputs": [
        {
          "output_type": "execute_result",
          "data": {
            "text/plain": [
              "0.9"
            ]
          },
          "metadata": {},
          "execution_count": 14
        }
      ]
    },
    {
      "cell_type": "markdown",
      "source": [
        "**단일 모델과 앙상블 모델의 비교 시각화**"
      ],
      "metadata": {
        "id": "IB4xH8BmIA2J"
      }
    },
    {
      "cell_type": "code",
      "source": [
        "from ast import increment_lineno\n",
        "import matplotlib.pyplot as plt\n",
        "import numpy as np\n",
        "%matplotlib inline\n",
        "\n",
        "x = np.arange(5)\n",
        "plt.bar(x, height = [accuracy_score(y_test, dtree_predicted),\n",
        "                     accuracy_score(y_test, knn_predicted),\n",
        "                     accuracy_score(y_test, svm_predicted),\n",
        "                     accuracy_score(y_test, soft_voting_predicted),\n",
        "                     accuracy_score(y_test, hard_voting_predicted)\n",
        "                     ])\n",
        "\n",
        "plt.xticks(x, ['decidion tree', 'knn', 'svm', 'soft voting', 'hard voting']);"
      ],
      "metadata": {
        "colab": {
          "base_uri": "https://localhost:8080/",
          "height": 430
        },
        "id": "9QbQtP7NHhcI",
        "outputId": "e9914c23-95bb-45e7-bb91-48f6e367e2ee"
      },
      "execution_count": 17,
      "outputs": [
        {
          "output_type": "display_data",
          "data": {
            "text/plain": [
              "<Figure size 640x480 with 1 Axes>"
            ],
            "image/png": "[encoded data removed]"
          },
          "metadata": {}
        }
      ]
    },
    {
      "cell_type": "code",
      "source": [],
      "metadata": {
        "id": "0yBH0Gi3I-Hh"
      },
      "execution_count": null,
      "outputs": []
    }
  ]
}