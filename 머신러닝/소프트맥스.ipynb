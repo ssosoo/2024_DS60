{
  "nbformat": 4,
  "nbformat_minor": 0,
  "metadata": {
    "colab": {
      "provenance": [],
      "authorship_tag": "ABX9TyOCpD+Ng5+2Qj4p8Ur+wfQO",
      "include_colab_link": true
    },
    "kernelspec": {
      "name": "python3",
      "display_name": "Python 3"
    },
    "language_info": {
      "name": "python"
    }
  },
  "cells": [
    {
      "cell_type": "markdown",
      "metadata": {
        "id": "view-in-github",
        "colab_type": "text"
      },
      "source": [
        "<a href=\"https://colab.research.google.com/github/ssosoo/2024_DS60/blob/main/%EC%86%8C%ED%94%84%ED%8A%B8%EB%A7%A5%EC%8A%A4.ipynb\" target=\"_parent\"><img src=\"https://colab.research.google.com/assets/colab-badge.svg\" alt=\"Open In Colab\"/></a>"
      ]
    },
    {
      "cell_type": "code",
      "execution_count": 1,
      "metadata": {
        "id": "2MSZbpaytTdr"
      },
      "outputs": [],
      "source": [
        "from tensorflow.keras.models import Sequential\n",
        "from tensorflow.keras.layers import Dense, Activation\n",
        "from tensorflow.keras.utils import to_categorical\n",
        "from tensorflow.keras.datasets import mnist\n"
      ]
    },
    {
      "cell_type": "code",
      "source": [
        "(X_train, y_train), (X_test, y_test) = mnist.load_data()"
      ],
      "metadata": {
        "colab": {
          "base_uri": "https://localhost:8080/"
        },
        "id": "moOLTveqt5M2",
        "outputId": "ba6fdef3-cf44-41a7-cf33-b6431c4e5a64"
      },
      "execution_count": 2,
      "outputs": [
        {
          "output_type": "stream",
          "name": "stdout",
          "text": [
            "Downloading data from https://storage.googleapis.com/tensorflow/tf-keras-datasets/mnist.npz\n",
            "\u001b[1m11490434/11490434\u001b[0m \u001b[32m━━━━━━━━━━━━━━━━━━━━\u001b[0m\u001b[37m\u001b[0m \u001b[1m1s\u001b[0m 0us/step\n"
          ]
        }
      ]
    },
    {
      "cell_type": "code",
      "source": [
        "print(\"train data (count, row, column) : \" + str(X_train.shape))\n",
        "print(\"test data (count, row, column) : \" + str(X_test.shape))"
      ],
      "metadata": {
        "colab": {
          "base_uri": "https://localhost:8080/"
        },
        "id": "Ju2Yige0uNf0",
        "outputId": "056b533b-5984-442a-da26-9bdaabf04eed"
      },
      "execution_count": 3,
      "outputs": [
        {
          "output_type": "stream",
          "name": "stdout",
          "text": [
            "train data (count, row, column) : (60000, 28, 28)\n",
            "test data (count, row, column) : (10000, 28, 28)\n"
          ]
        }
      ]
    },
    {
      "cell_type": "markdown",
      "source": [
        "**MNIST 손글씨 데이터 정규화**\n",
        "\n",
        "일반적으로 이미지의 픽셀 값은 0~255 범위의 정수값을 가진다. 따라서 모든 픽셀 값을 0~1사이로 정규화하기 위해 255로 나눈다."
      ],
      "metadata": {
        "id": "QzALo2LBui0V"
      }
    },
    {
      "cell_type": "code",
      "source": [
        "X_train = X_train.astype('float32')\n",
        "X_test = X_test.astype('float32')\n",
        "X_train /= 255\n",
        "X_test /= 255"
      ],
      "metadata": {
        "id": "rL287i8fudLJ"
      },
      "execution_count": 4,
      "outputs": []
    },
    {
      "cell_type": "code",
      "source": [
        "print(\"train target (count) : \" + str(y_train.shape))\n",
        "print(\"test target (count) : \" + str(y_test.shape))"
      ],
      "metadata": {
        "colab": {
          "base_uri": "https://localhost:8080/"
        },
        "id": "zC9XSV3juyoA",
        "outputId": "6c656ec7-8670-42b2-e852-885b6d8a8825"
      },
      "execution_count": 5,
      "outputs": [
        {
          "output_type": "stream",
          "name": "stdout",
          "text": [
            "train target (count) : (60000,)\n",
            "test target (count) : (10000,)\n"
          ]
        }
      ]
    },
    {
      "cell_type": "markdown",
      "source": [
        "**데이터 단순화**\n",
        "\n",
        "지역적 정보 사용 없이 단순히 정규화된 입력값만 가지고 숫자 분류를 목적으로 한다. 따라서 행/렬의 구분없이 단순히 784(28*28)의 배열로 데이터를 단순화한다."
      ],
      "metadata": {
        "id": "zHYhgRjgv2co"
      }
    },
    {
      "cell_type": "code",
      "source": [
        "input_dim = 784\n",
        "X_train = X_train.reshape(60000, input_dim)\n",
        "X_test = X_test.reshape(10000, input_dim)"
      ],
      "metadata": {
        "id": "DUi9OSp2vxOo"
      },
      "execution_count": 6,
      "outputs": []
    },
    {
      "cell_type": "code",
      "source": [
        "# X 데이터들이 2차원에서 2차원으로 변경된 것을 확인\n",
        "print(X_train.shape)\n",
        "print(y_train.shape)\n",
        "print(X_test.shape)\n",
        "print(y_test.shape)"
      ],
      "metadata": {
        "colab": {
          "base_uri": "https://localhost:8080/"
        },
        "id": "qDR4jgn7wkvC",
        "outputId": "7ebbd42f-a592-464b-d400-b2fc24ac6b6f"
      },
      "execution_count": 7,
      "outputs": [
        {
          "output_type": "stream",
          "name": "stdout",
          "text": [
            "(60000, 784)\n",
            "(60000,)\n",
            "(10000, 784)\n",
            "(10000,)\n"
          ]
        }
      ]
    },
    {
      "cell_type": "markdown",
      "source": [
        "**소프트맥스**\n",
        "\n",
        "MNIST의 손글씨 숫자를 0부터 9로 구분한다.\n",
        "\n",
        "1. 로지스틱 회귀를 하면 각 값은 0~1사이다.\n",
        "2. 학습시 실제값과의 크로스 엔트로피를 계산하여 실제값을 원 핫인코딩(one hot encoding)으로 변환한다."
      ],
      "metadata": {
        "id": "wl6w1iMrxbxH"
      }
    },
    {
      "cell_type": "code",
      "source": [
        "num_classes = 10\n",
        "y_train = to_categorical(y_train, num_classes)\n",
        "y_test = to_categorical(y_test, num_classes)\n",
        "\n",
        "print(y_train[0])"
      ],
      "metadata": {
        "colab": {
          "base_uri": "https://localhost:8080/"
        },
        "id": "lH9qAmvMxQ2E",
        "outputId": "b19765ad-ea77-49bf-f638-1a1c73712b78"
      },
      "execution_count": 8,
      "outputs": [
        {
          "output_type": "stream",
          "name": "stdout",
          "text": [
            "[0. 0. 0. 0. 0. 1. 0. 0. 0. 0.]\n"
          ]
        }
      ]
    },
    {
      "cell_type": "code",
      "source": [
        "model = Sequential()\n",
        "model.add(Dense(input_dim = input_dim, units = 10, activation = 'softmax'))"
      ],
      "metadata": {
        "colab": {
          "base_uri": "https://localhost:8080/"
        },
        "id": "R3OEDfPOyHMP",
        "outputId": "a831d0e8-36e9-4c45-e925-3867a3bb93fa"
      },
      "execution_count": 9,
      "outputs": [
        {
          "output_type": "stream",
          "name": "stderr",
          "text": [
            "/usr/local/lib/python3.10/dist-packages/keras/src/layers/core/dense.py:87: UserWarning: Do not pass an `input_shape`/`input_dim` argument to a layer. When using Sequential models, prefer using an `Input(shape)` object as the first layer in the model instead.\n",
            "  super().__init__(activity_regularizer=activity_regularizer, **kwargs)\n"
          ]
        }
      ]
    },
    {
      "cell_type": "markdown",
      "source": [
        "**모델 학습**\n",
        "\n",
        "10개의 클래스 분류를 목적으로 두기 때문에 categorical 크로스 엔트로피를 비용함수로 사용하여 최적의 회귀계수 w와 편향을 구한다."
      ],
      "metadata": {
        "id": "ufIhY8JpfoWO"
      }
    },
    {
      "cell_type": "code",
      "source": [
        "model.compile(optimizer = 'sgd', loss = 'categorical_crossentropy',\n",
        "              metrics = ['accuracy'])\n",
        "model.fit(X_train, y_train, batch_size = 2048, epochs = 10, verbose = 0)"
      ],
      "metadata": {
        "colab": {
          "base_uri": "https://localhost:8080/"
        },
        "id": "KOerzI1Afrvy",
        "outputId": "a7a45c1c-e265-49ba-f240-58fa0d04c8cd"
      },
      "execution_count": 12,
      "outputs": [
        {
          "output_type": "execute_result",
          "data": {
            "text/plain": [
              "<keras.src.callbacks.history.History at 0x7aaaca9fa5c0>"
            ]
          },
          "metadata": {},
          "execution_count": 12
        }
      ]
    },
    {
      "cell_type": "markdown",
      "source": [
        "**모델 테스트**\n",
        "\n",
        "score[0] : 손실도\n",
        "\n",
        "score[1] : 정확도\n",
        "\n",
        "\n",
        "\n",
        "\n",
        "---\n",
        "\n",
        "\n",
        "model.summary(): 모델 요약\n",
        "model.layers[0].weights: 회귀계수와 편향계수 확인"
      ],
      "metadata": {
        "id": "mI2ZUFyzgzq6"
      }
    },
    {
      "cell_type": "code",
      "source": [
        "score = model.evaluate(X_test, y_test)\n",
        "print('Test accuracy: ', score[1])"
      ],
      "metadata": {
        "colab": {
          "base_uri": "https://localhost:8080/"
        },
        "id": "8E_tm3P8gCsH",
        "outputId": "73dc6659-a84b-4651-97b1-34984f270620"
      },
      "execution_count": 17,
      "outputs": [
        {
          "output_type": "stream",
          "name": "stdout",
          "text": [
            "\u001b[1m313/313\u001b[0m \u001b[32m━━━━━━━━━━━━━━━━━━━━\u001b[0m\u001b[37m\u001b[0m \u001b[1m1s\u001b[0m 2ms/step - accuracy: 0.7828 - loss: 1.0623\n",
            "Test accuracy:  0.8072999715805054\n"
          ]
        }
      ]
    },
    {
      "cell_type": "code",
      "source": [],
      "metadata": {
        "id": "YcuTm1IdgcHg"
      },
      "execution_count": null,
      "outputs": []
    }
  ]
}
