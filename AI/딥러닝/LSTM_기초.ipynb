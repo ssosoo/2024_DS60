{
  "nbformat": 4,
  "nbformat_minor": 0,
  "metadata": {
    "colab": {
      "provenance": [],
      "authorship_tag": "ABX9TyNGRagi2veaXvdHf95xCU82",
      "include_colab_link": true
    },
    "kernelspec": {
      "name": "python3",
      "display_name": "Python 3"
    },
    "language_info": {
      "name": "python"
    }
  },
  "cells": [
    {
      "cell_type": "markdown",
      "metadata": {
        "id": "view-in-github",
        "colab_type": "text"
      },
      "source": [
        "<a href=\"https://colab.research.google.com/github/ssosoo/2024_DS60/blob/main/%EB%94%A5%EB%9F%AC%EB%8B%9D/LSTM_%EA%B8%B0%EC%B4%88.ipynb\" target=\"_parent\"><img src=\"https://colab.research.google.com/assets/colab-badge.svg\" alt=\"Open In Colab\"/></a>"
      ]
    },
    {
      "cell_type": "markdown",
      "source": [
        "**LSTM 기초**\n",
        "\n",
        "LSTM의 출력값(y) 및 상태값(hidden state), memory cell값을 출력한다."
      ],
      "metadata": {
        "id": "rUBsFku6hY0P"
      }
    },
    {
      "cell_type": "code",
      "execution_count": 3,
      "metadata": {
        "colab": {
          "base_uri": "https://localhost:8080/"
        },
        "id": "BqMVc8uogWu1",
        "outputId": "20529133-6ace-4414-b2ee-61e91be4679e"
      },
      "outputs": [
        {
          "output_type": "stream",
          "name": "stdout",
          "text": [
            "\u001b[1m1/1\u001b[0m \u001b[32m━━━━━━━━━━━━━━━━━━━━\u001b[0m\u001b[37m\u001b[0m \u001b[1m0s\u001b[0m 161ms/step\n",
            "lstm_out:  [[-0.03224912]]\n",
            "hidden_state:  [[-0.03224912]]\n",
            "cell_state:  [[-0.05301542]]\n"
          ]
        }
      ],
      "source": [
        "import tensorflow as tf\n",
        "from tensorflow.keras.layers import Input, Dense, LSTM\n",
        "from tensorflow.keras.models import Model\n",
        "import numpy as np\n",
        "\n",
        "# 입력값의 형태를 지정합니다.\n",
        "inputs = Input(shape=(1,2))\n",
        "\n",
        "# RNN 샐의 속성을 지정합니다.\n",
        "lstm_out, hidden_state, cell_state = LSTM(1, return_state=True)(inputs)\n",
        "model = Model(inputs=inputs, outputs=[lstm_out, hidden_state, cell_state])\n",
        "\n",
        "data = np.array([\n",
        "    [ [1,0] ]\n",
        "])\n",
        "\n",
        "# 출력값, 상태값, 메모리셀 출력\n",
        "lstm_out, hidden_state, cell_state = model.predict(data)\n",
        "print(\"lstm_out: \", lstm_out)\n",
        "print(\"hidden_state: \", hidden_state)\n",
        "print(\"cell_state: \", cell_state)"
      ]
    }
  ]
}